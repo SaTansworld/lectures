{
 "cells": [
  {
   "cell_type": "code",
   "execution_count": 1,
   "id": "e22c4eaa",
   "metadata": {},
   "outputs": [
    {
     "name": "stdout",
     "output_type": "stream",
     "text": [
      "현재 속도(슈퍼): 150\n",
      "현재 속도(서브): 80\n"
     ]
    }
   ],
   "source": [
    "class Car:\n",
    "    speed = 0\n",
    "    def upSpeed(self, value):\n",
    "        self.speed += value\n",
    "\n",
    "        print(f\"현재 속도(슈퍼): {self.speed}\")\n",
    "\n",
    "class Son(Car):\n",
    "    def upSpeed(self, value):\n",
    "        self.speed += value\n",
    "\n",
    "        if self.speed > 100:\n",
    "            self.speed = 80\n",
    "\n",
    "        print(f\"현재 속도(서브): {self.speed}\")\n",
    "\n",
    "\n",
    "##메인 코드\n",
    "\n",
    "myCar1 = Car()\n",
    "myCar1.upSpeed(150)\n",
    "\n",
    "\n",
    "myCar2 = Son()\n",
    "myCar2.upSpeed(150)"
   ]
  },
  {
   "cell_type": "code",
   "execution_count": 2,
   "id": "e9cecf41",
   "metadata": {},
   "outputs": [
    {
     "name": "stdout",
     "output_type": "stream",
     "text": [
      "car1 speed : 150\n",
      "car2 speed : 80\n"
     ]
    }
   ],
   "source": [
    "print(f\"car1 speed : {myCar1.speed}\")\n",
    "print(f\"car2 speed : {myCar2.speed}\")"
   ]
  },
  {
   "cell_type": "code",
   "execution_count": null,
   "id": "3dd4c0d9",
   "metadata": {},
   "outputs": [],
   "source": []
  }
 ],
 "metadata": {
  "kernelspec": {
   "display_name": "Python 3 (ipykernel)",
   "language": "python",
   "name": "python3"
  },
  "language_info": {
   "codemirror_mode": {
    "name": "ipython",
    "version": 3
   },
   "file_extension": ".py",
   "mimetype": "text/x-python",
   "name": "python",
   "nbconvert_exporter": "python",
   "pygments_lexer": "ipython3",
   "version": "3.9.7"
  }
 },
 "nbformat": 4,
 "nbformat_minor": 5
}
