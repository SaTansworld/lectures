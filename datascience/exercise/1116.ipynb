{
 "cells": [
  {
   "cell_type": "code",
   "execution_count": 9,
   "metadata": {},
   "outputs": [
    {
     "name": "stderr",
     "output_type": "stream",
     "text": [
      "<ipython-input-9-f8b6cbda5517>:3: FutureWarning: The pandas.datetime class is deprecated and will be removed from pandas in a future version. Import from datetime module instead.\n",
      "  from pandas import datetime\n"
     ]
    }
   ],
   "source": [
    "import pandas as pd\n",
    "import numpy as np\n",
    "from pandas import datetime\n",
    "from datetime import datetime\n",
    "from matplotlib import pyplot as plt"
   ]
  },
  {
   "cell_type": "code",
   "execution_count": 10,
   "metadata": {},
   "outputs": [
    {
     "name": "stdout",
     "output_type": "stream",
     "text": [
      " C 드라이브의 볼륨에는 이름이 없습니다.\n",
      " 볼륨 일련 번호: 1834-A676\n",
      "\n",
      " C:\\Users\\wjdck\\Desktop\\data 디렉터리\n",
      "\n",
      "2021-11-24  오전 10:33    <DIR>          .\n",
      "2021-11-24  오전 10:33    <DIR>          ..\n",
      "2021-11-24  오전 10:33    <DIR>          .ipynb_checkpoints\n",
      "2021-09-21  오후 01:40             4,749 0913-checkpoint.ipynb\n",
      "2021-09-21  오후 01:54             2,225 0915.ipynb\n",
      "2021-09-21  오후 02:25             5,374 0921.ipynb\n",
      "2021-09-26  오후 05:55         4,207,061 0922.ipynb\n",
      "2021-10-01  오전 11:23             3,853 0926.ipynb\n",
      "2021-10-05  오전 09:31             4,932 0930.ipynb\n",
      "2021-10-08  오후 09:47             8,002 1005.ipynb\n",
      "2021-10-08  오후 10:39             8,688 1007.ipynb\n",
      "2021-10-27  오후 03:47            35,677 1012.ipynb\n",
      "2021-10-27  오후 04:17             9,614 1014.ipynb\n",
      "2021-10-27  오후 04:31            31,816 1021.ipynb\n",
      "2021-10-27  오후 04:19             4,458 1021.py\n",
      "2021-11-24  오전 09:53            12,542 1028.ipynb\n",
      "2021-11-24  오전 09:45             4,458 11_combining_datasets.py\n",
      "2021-11-24  오전 10:32         1,398,943 1109.ipynb\n",
      "2021-11-24  오전 09:45             2,426 12_working_with_time_series.py\n",
      "2021-11-24  오전 09:53             4,123 13_handling_missing_data.py\n",
      "2021-11-19  오후 04:39             3,657 14_outlier_detection.py\n",
      "2021-11-19  오후 04:49           763,404 AirQualityUCI_refined.csv\n",
      "2021-09-21  오후 02:43             2,241 hw1.ipynb\n",
      "2021-09-21  오후 03:03             1,690 hw2.ipynb\n",
      "2021-09-26  오후 06:14             2,271 hw3.ipynb\n",
      "2021-10-02  오후 02:17             1,854 hw4.ipynb\n",
      "2021-11-19  오후 04:49            72,208 hw5.ipynb\n",
      "2021-10-08  오후 10:47             1,031 president_heights.csv\n",
      "2021-09-21  오후 01:53             1,970 Untitled.ipynb\n",
      "2021-09-21  오후 02:25             5,374 Untitled1.ipynb\n",
      "2021-09-21  오후 02:43             2,241 Untitled2.ipynb\n",
      "2021-09-21  오후 03:02             1,690 Untitled3.ipynb\n",
      "2021-11-24  오전 10:30            40,084 Untitled4.ipynb\n",
      "2021-11-19  오후 04:58               555 Untitled5.ipynb\n",
      "              31개 파일           6,649,211 바이트\n",
      "               3개 디렉터리  31,674,609,664 바이트 남음\n"
     ]
    }
   ],
   "source": [
    "%ls"
   ]
  },
  {
   "cell_type": "code",
   "execution_count": 11,
   "metadata": {},
   "outputs": [
    {
     "data": {
      "text/html": [
       "<div>\n",
       "<style scoped>\n",
       "    .dataframe tbody tr th:only-of-type {\n",
       "        vertical-align: middle;\n",
       "    }\n",
       "\n",
       "    .dataframe tbody tr th {\n",
       "        vertical-align: top;\n",
       "    }\n",
       "\n",
       "    .dataframe thead th {\n",
       "        text-align: right;\n",
       "    }\n",
       "</style>\n",
       "<table border=\"1\" class=\"dataframe\">\n",
       "  <thead>\n",
       "    <tr style=\"text-align: right;\">\n",
       "      <th></th>\n",
       "      <th>Datetime</th>\n",
       "      <th>CO(GT)</th>\n",
       "      <th>PT08.S1(CO)</th>\n",
       "      <th>PT08.S2(NMHC)</th>\n",
       "      <th>NOx(GT)</th>\n",
       "      <th>PT08.S3(NOx)</th>\n",
       "      <th>NO2(GT)</th>\n",
       "      <th>PT08.S4(NO2)</th>\n",
       "      <th>PT08.S5(O3)</th>\n",
       "      <th>RH</th>\n",
       "      <th>AH</th>\n",
       "      <th>C6H6(GT)</th>\n",
       "    </tr>\n",
       "  </thead>\n",
       "  <tbody>\n",
       "    <tr>\n",
       "      <th>0</th>\n",
       "      <td>2004-03-10 18:00:00</td>\n",
       "      <td>2.6</td>\n",
       "      <td>1360.0</td>\n",
       "      <td>1046.0</td>\n",
       "      <td>166.0</td>\n",
       "      <td>1056.0</td>\n",
       "      <td>113.0</td>\n",
       "      <td>1692.0</td>\n",
       "      <td>1268.0</td>\n",
       "      <td>48.9</td>\n",
       "      <td>0.7578</td>\n",
       "      <td>11.9</td>\n",
       "    </tr>\n",
       "    <tr>\n",
       "      <th>1</th>\n",
       "      <td>2004-03-10 19:00:00</td>\n",
       "      <td>2.0</td>\n",
       "      <td>1292.0</td>\n",
       "      <td>955.0</td>\n",
       "      <td>103.0</td>\n",
       "      <td>1174.0</td>\n",
       "      <td>92.0</td>\n",
       "      <td>1559.0</td>\n",
       "      <td>972.0</td>\n",
       "      <td>47.7</td>\n",
       "      <td>0.7255</td>\n",
       "      <td>9.4</td>\n",
       "    </tr>\n",
       "    <tr>\n",
       "      <th>2</th>\n",
       "      <td>2004-03-10 20:00:00</td>\n",
       "      <td>2.2</td>\n",
       "      <td>1402.0</td>\n",
       "      <td>939.0</td>\n",
       "      <td>131.0</td>\n",
       "      <td>1140.0</td>\n",
       "      <td>114.0</td>\n",
       "      <td>1555.0</td>\n",
       "      <td>1074.0</td>\n",
       "      <td>54.0</td>\n",
       "      <td>0.7502</td>\n",
       "      <td>9.0</td>\n",
       "    </tr>\n",
       "    <tr>\n",
       "      <th>3</th>\n",
       "      <td>2004-03-10 21:00:00</td>\n",
       "      <td>2.2</td>\n",
       "      <td>1376.0</td>\n",
       "      <td>948.0</td>\n",
       "      <td>172.0</td>\n",
       "      <td>1092.0</td>\n",
       "      <td>122.0</td>\n",
       "      <td>1584.0</td>\n",
       "      <td>1203.0</td>\n",
       "      <td>60.0</td>\n",
       "      <td>0.7867</td>\n",
       "      <td>9.2</td>\n",
       "    </tr>\n",
       "    <tr>\n",
       "      <th>4</th>\n",
       "      <td>2004-03-10 22:00:00</td>\n",
       "      <td>1.6</td>\n",
       "      <td>1272.0</td>\n",
       "      <td>836.0</td>\n",
       "      <td>131.0</td>\n",
       "      <td>1205.0</td>\n",
       "      <td>116.0</td>\n",
       "      <td>1490.0</td>\n",
       "      <td>1110.0</td>\n",
       "      <td>59.6</td>\n",
       "      <td>0.7888</td>\n",
       "      <td>6.5</td>\n",
       "    </tr>\n",
       "    <tr>\n",
       "      <th>...</th>\n",
       "      <td>...</td>\n",
       "      <td>...</td>\n",
       "      <td>...</td>\n",
       "      <td>...</td>\n",
       "      <td>...</td>\n",
       "      <td>...</td>\n",
       "      <td>...</td>\n",
       "      <td>...</td>\n",
       "      <td>...</td>\n",
       "      <td>...</td>\n",
       "      <td>...</td>\n",
       "      <td>...</td>\n",
       "    </tr>\n",
       "    <tr>\n",
       "      <th>9352</th>\n",
       "      <td>2005-04-04 10:00:00</td>\n",
       "      <td>3.1</td>\n",
       "      <td>1314.0</td>\n",
       "      <td>1101.0</td>\n",
       "      <td>472.0</td>\n",
       "      <td>539.0</td>\n",
       "      <td>190.0</td>\n",
       "      <td>1374.0</td>\n",
       "      <td>1729.0</td>\n",
       "      <td>29.3</td>\n",
       "      <td>0.7568</td>\n",
       "      <td>13.5</td>\n",
       "    </tr>\n",
       "    <tr>\n",
       "      <th>9353</th>\n",
       "      <td>2005-04-04 11:00:00</td>\n",
       "      <td>2.4</td>\n",
       "      <td>1163.0</td>\n",
       "      <td>1027.0</td>\n",
       "      <td>353.0</td>\n",
       "      <td>604.0</td>\n",
       "      <td>179.0</td>\n",
       "      <td>1264.0</td>\n",
       "      <td>1269.0</td>\n",
       "      <td>23.7</td>\n",
       "      <td>0.7119</td>\n",
       "      <td>11.4</td>\n",
       "    </tr>\n",
       "    <tr>\n",
       "      <th>9354</th>\n",
       "      <td>2005-04-04 12:00:00</td>\n",
       "      <td>2.4</td>\n",
       "      <td>1142.0</td>\n",
       "      <td>1063.0</td>\n",
       "      <td>293.0</td>\n",
       "      <td>603.0</td>\n",
       "      <td>175.0</td>\n",
       "      <td>1241.0</td>\n",
       "      <td>1092.0</td>\n",
       "      <td>18.3</td>\n",
       "      <td>0.6406</td>\n",
       "      <td>12.4</td>\n",
       "    </tr>\n",
       "    <tr>\n",
       "      <th>9355</th>\n",
       "      <td>2005-04-04 13:00:00</td>\n",
       "      <td>2.1</td>\n",
       "      <td>1003.0</td>\n",
       "      <td>961.0</td>\n",
       "      <td>235.0</td>\n",
       "      <td>702.0</td>\n",
       "      <td>156.0</td>\n",
       "      <td>1041.0</td>\n",
       "      <td>770.0</td>\n",
       "      <td>13.5</td>\n",
       "      <td>0.5139</td>\n",
       "      <td>9.5</td>\n",
       "    </tr>\n",
       "    <tr>\n",
       "      <th>9356</th>\n",
       "      <td>2005-04-04 14:00:00</td>\n",
       "      <td>2.2</td>\n",
       "      <td>1071.0</td>\n",
       "      <td>1047.0</td>\n",
       "      <td>265.0</td>\n",
       "      <td>654.0</td>\n",
       "      <td>168.0</td>\n",
       "      <td>1129.0</td>\n",
       "      <td>816.0</td>\n",
       "      <td>13.1</td>\n",
       "      <td>0.5028</td>\n",
       "      <td>11.9</td>\n",
       "    </tr>\n",
       "  </tbody>\n",
       "</table>\n",
       "<p>9357 rows × 12 columns</p>\n",
       "</div>"
      ],
      "text/plain": [
       "                 Datetime  CO(GT)  PT08.S1(CO)  PT08.S2(NMHC)  NOx(GT)  \\\n",
       "0     2004-03-10 18:00:00     2.6       1360.0         1046.0    166.0   \n",
       "1     2004-03-10 19:00:00     2.0       1292.0          955.0    103.0   \n",
       "2     2004-03-10 20:00:00     2.2       1402.0          939.0    131.0   \n",
       "3     2004-03-10 21:00:00     2.2       1376.0          948.0    172.0   \n",
       "4     2004-03-10 22:00:00     1.6       1272.0          836.0    131.0   \n",
       "...                   ...     ...          ...            ...      ...   \n",
       "9352  2005-04-04 10:00:00     3.1       1314.0         1101.0    472.0   \n",
       "9353  2005-04-04 11:00:00     2.4       1163.0         1027.0    353.0   \n",
       "9354  2005-04-04 12:00:00     2.4       1142.0         1063.0    293.0   \n",
       "9355  2005-04-04 13:00:00     2.1       1003.0          961.0    235.0   \n",
       "9356  2005-04-04 14:00:00     2.2       1071.0         1047.0    265.0   \n",
       "\n",
       "      PT08.S3(NOx)  NO2(GT)  PT08.S4(NO2)  PT08.S5(O3)    RH      AH  C6H6(GT)  \n",
       "0           1056.0    113.0        1692.0       1268.0  48.9  0.7578      11.9  \n",
       "1           1174.0     92.0        1559.0        972.0  47.7  0.7255       9.4  \n",
       "2           1140.0    114.0        1555.0       1074.0  54.0  0.7502       9.0  \n",
       "3           1092.0    122.0        1584.0       1203.0  60.0  0.7867       9.2  \n",
       "4           1205.0    116.0        1490.0       1110.0  59.6  0.7888       6.5  \n",
       "...            ...      ...           ...          ...   ...     ...       ...  \n",
       "9352         539.0    190.0        1374.0       1729.0  29.3  0.7568      13.5  \n",
       "9353         604.0    179.0        1264.0       1269.0  23.7  0.7119      11.4  \n",
       "9354         603.0    175.0        1241.0       1092.0  18.3  0.6406      12.4  \n",
       "9355         702.0    156.0        1041.0        770.0  13.5  0.5139       9.5  \n",
       "9356         654.0    168.0        1129.0        816.0  13.1  0.5028      11.9  \n",
       "\n",
       "[9357 rows x 12 columns]"
      ]
     },
     "execution_count": 11,
     "metadata": {},
     "output_type": "execute_result"
    }
   ],
   "source": [
    "pd.read_csv(\"AirQualityUCI_refined.csv\")"
   ]
  },
  {
   "cell_type": "code",
   "execution_count": 5,
   "metadata": {},
   "outputs": [
    {
     "name": "stdout",
     "output_type": "stream",
     "text": [
      "<class 'pandas.core.frame.DataFrame'>\n",
      "DatetimeIndex: 9357 entries, 2004-03-10 18:00:00 to 2005-04-04 14:00:00\n",
      "Data columns (total 11 columns):\n",
      " #   Column         Non-Null Count  Dtype  \n",
      "---  ------         --------------  -----  \n",
      " 0   CO(GT)         7765 non-null   float64\n",
      " 1   PT08.S1(CO)    8991 non-null   float64\n",
      " 2   PT08.S2(NMHC)  8991 non-null   float64\n",
      " 3   NOx(GT)        7718 non-null   float64\n",
      " 4   PT08.S3(NOx)   8991 non-null   float64\n",
      " 5   NO2(GT)        7715 non-null   float64\n",
      " 6   PT08.S4(NO2)   8991 non-null   float64\n",
      " 7   PT08.S5(O3)    8991 non-null   float64\n",
      " 8   RH             8991 non-null   float64\n",
      " 9   AH             8991 non-null   float64\n",
      " 10  C6H6(GT)       9357 non-null   float64\n",
      "dtypes: float64(11)\n",
      "memory usage: 877.2 KB\n"
     ]
    }
   ],
   "source": [
    "def parser(x):\n",
    "    return datetime.strptime(x, '%Y-%m-%d %H:%M:%S')\n",
    "\n",
    "\n",
    "\n",
    "df = pd.read_csv(\"AirQualityUCI_refined.csv\",\n",
    "                 index_col=[0],\n",
    "                 parse_dates=[0],\n",
    "                 date_parser=parser)\n",
    "# Print the summary of the dataset\n",
    "\n",
    "df.head()\n",
    "df.info()"
   ]
  },
  {
   "cell_type": "code",
   "execution_count": 12,
   "metadata": {},
   "outputs": [
    {
     "name": "stdout",
     "output_type": "stream",
     "text": [
      "Using matplotlib backend: Qt5Agg\n"
     ]
    }
   ],
   "source": [
    "%matplotlib\n",
    "from matplotlib import pyplot as plt\n",
    "import seaborn; seaborn.set()  # set plot styles\n",
    "%config InlineBackend.figure_format = 'svg'\n",
    "plt.rcParams['figure.figsize'] = [10, 5]\n",
    "plt.ion() # enable the interactive mode"
   ]
  },
  {
   "cell_type": "code",
   "execution_count": 13,
   "metadata": {},
   "outputs": [
    {
     "data": {
      "text/plain": [
       "<AxesSubplot:xlabel='Datetime'>"
      ]
     },
     "execution_count": 13,
     "metadata": {},
     "output_type": "execute_result"
    }
   ],
   "source": [
    "df['CO(GT)'].plot()"
   ]
  },
  {
   "cell_type": "code",
   "execution_count": 14,
   "metadata": {},
   "outputs": [],
   "source": [
    "co = df['CO(GT)'].copy()\n",
    "co.interpolate(inplace=True)"
   ]
  },
  {
   "cell_type": "code",
   "execution_count": 15,
   "metadata": {},
   "outputs": [
    {
     "data": {
      "text/plain": [
       "<matplotlib.legend.Legend at 0x1ff2c9d5130>"
      ]
     },
     "execution_count": 15,
     "metadata": {},
     "output_type": "execute_result"
    }
   ],
   "source": [
    "plt.plot(df['CO(GT)'], label='original', zorder=2)\n",
    "plt.plot(co, label='linear interpolation', zorder=1)\n",
    "plt.legend(loc='best')"
   ]
  },
  {
   "cell_type": "code",
   "execution_count": 16,
   "metadata": {},
   "outputs": [
    {
     "data": {
      "text/plain": [
       "Text(0.5, 6.049999999999995, 'CO(GT)')"
      ]
     },
     "execution_count": 16,
     "metadata": {},
     "output_type": "execute_result"
    }
   ],
   "source": [
    "plt.boxplot(co)\n",
    "plt.title(\"Detecting outliers using Boxplot\")\n",
    "plt.xlabel('CO(GT)')"
   ]
  },
  {
   "cell_type": "code",
   "execution_count": 17,
   "metadata": {},
   "outputs": [
    {
     "name": "stdout",
     "output_type": "stream",
     "text": [
      "                 CO(GT)  PT08.S1(CO)  PT08.S2(NMHC)   NOx(GT)  PT08.S3(NOx)  \\\n",
      "CO(GT)         1.000000     0.877203       0.914973  0.792557     -0.701703   \n",
      "PT08.S1(CO)    0.877203     1.000000       0.892964  0.713654     -0.771938   \n",
      "PT08.S2(NMHC)  0.914973     0.892964       1.000000  0.704435     -0.796703   \n",
      "NOx(GT)        0.792557     0.713654       0.704435  1.000000     -0.655707   \n",
      "PT08.S3(NOx)  -0.701703    -0.771938      -0.796703 -0.655707      1.000000   \n",
      "NO2(GT)        0.679262     0.641529       0.646245  0.763111     -0.652083   \n",
      "PT08.S4(NO2)   0.639470     0.682881       0.777254  0.233731     -0.538468   \n",
      "PT08.S5(O3)    0.851403     0.899324       0.880578  0.787046     -0.796569   \n",
      "RH             0.040218     0.114606      -0.090380  0.221032     -0.056740   \n",
      "AH             0.065809     0.135324       0.186933 -0.149323     -0.232017   \n",
      "C6H6(GT)       0.845144     0.883795       0.981950  0.626638     -0.735744   \n",
      "\n",
      "                NO2(GT)  PT08.S4(NO2)  PT08.S5(O3)        RH        AH  \\\n",
      "CO(GT)         0.679262      0.639470     0.851403  0.040218  0.065809   \n",
      "PT08.S1(CO)    0.641529      0.682881     0.899324  0.114606  0.135324   \n",
      "PT08.S2(NMHC)  0.646245      0.777254     0.880578 -0.090380  0.186933   \n",
      "NOx(GT)        0.763111      0.233731     0.787046  0.221032 -0.149323   \n",
      "PT08.S3(NOx)  -0.652083     -0.538468    -0.796569 -0.056740 -0.232017   \n",
      "NO2(GT)        1.000000      0.157360     0.708128 -0.091759 -0.335022   \n",
      "PT08.S4(NO2)   0.157360      1.000000     0.591144 -0.032188  0.629641   \n",
      "PT08.S5(O3)    0.708128      0.591144     1.000000  0.124956  0.070751   \n",
      "RH            -0.091759     -0.032188     0.124956  1.000000  0.167971   \n",
      "AH            -0.335022      0.629641     0.070751  0.167971  1.000000   \n",
      "C6H6(GT)       0.544039      0.765731     0.865689 -0.061681  0.167972   \n",
      "\n",
      "               C6H6(GT)  \n",
      "CO(GT)         0.845144  \n",
      "PT08.S1(CO)    0.883795  \n",
      "PT08.S2(NMHC)  0.981950  \n",
      "NOx(GT)        0.626638  \n",
      "PT08.S3(NOx)  -0.735744  \n",
      "NO2(GT)        0.544039  \n",
      "PT08.S4(NO2)   0.765731  \n",
      "PT08.S5(O3)    0.865689  \n",
      "RH            -0.061681  \n",
      "AH             0.167972  \n",
      "C6H6(GT)       1.000000  \n"
     ]
    }
   ],
   "source": [
    "corr_matrix = df.corr()\n",
    "print(corr_matrix)"
   ]
  },
  {
   "cell_type": "code",
   "execution_count": 18,
   "metadata": {},
   "outputs": [],
   "source": [
    "rh = df['RH'].copy().interpolate() # RH(Relative Humidity)"
   ]
  },
  {
   "cell_type": "code",
   "execution_count": 19,
   "metadata": {},
   "outputs": [
    {
     "data": {
      "text/plain": [
       "Text(89.25, 0.5, 'RH')"
      ]
     },
     "execution_count": 19,
     "metadata": {},
     "output_type": "execute_result"
    }
   ],
   "source": [
    "plt.scatter(co, rh, s=12, c='black')\n",
    "plt.xlabel('CO(GT)')\n",
    "plt.ylabel('RH')"
   ]
  },
  {
   "cell_type": "code",
   "execution_count": 20,
   "metadata": {},
   "outputs": [],
   "source": [
    "nmhc = df['PT08.S2(NMHC)'].copy().interpolate() # NMHC(non-methane hydrocarbons)"
   ]
  },
  {
   "cell_type": "code",
   "execution_count": 21,
   "metadata": {},
   "outputs": [
    {
     "data": {
      "text/plain": [
       "Text(89.25, 0.5, 'PT08.S2(NMHC)')"
      ]
     },
     "execution_count": 21,
     "metadata": {},
     "output_type": "execute_result"
    }
   ],
   "source": [
    "plt.scatter(co, nmhc, s=12, c='black')\n",
    "plt.xlabel('CO(GT)')\n",
    "plt.ylabel('PT08.S2(NMHC)')\n"
   ]
  },
  {
   "cell_type": "code",
   "execution_count": 22,
   "metadata": {},
   "outputs": [
    {
     "name": "stdout",
     "output_type": "stream",
     "text": [
      "1.1 1.8 2.9\n",
      "5.6 -1.5999999999999996\n",
      "Datetime\n",
      "2004-03-11 19:00:00    6.9\n",
      "2004-03-11 20:00:00    6.1\n",
      "2004-03-12 20:00:00    6.6\n",
      "2004-03-14 20:00:00    5.9\n",
      "2004-03-15 09:00:00    8.1\n",
      "                      ... \n",
      "2005-03-23 19:00:00    6.2\n",
      "2005-03-23 20:00:00    7.2\n",
      "2005-03-24 19:00:00    5.9\n",
      "2005-03-24 20:00:00    7.5\n",
      "2005-03-25 19:00:00    5.7\n",
      "Name: CO(GT), Length: 224, dtype: float64\n",
      "Datetime\n",
      "2004-03-11 19:00:00   NaN\n",
      "2004-03-11 20:00:00   NaN\n",
      "2004-03-12 20:00:00   NaN\n",
      "2004-03-14 20:00:00   NaN\n",
      "2004-03-15 09:00:00   NaN\n",
      "                       ..\n",
      "2005-03-23 19:00:00   NaN\n",
      "2005-03-23 20:00:00   NaN\n",
      "2005-03-24 19:00:00   NaN\n",
      "2005-03-24 20:00:00   NaN\n",
      "2005-03-25 19:00:00   NaN\n",
      "Name: CO(GT), Length: 224, dtype: float64\n"
     ]
    },
    {
     "data": {
      "text/plain": [
       "<AxesSubplot:title={'center':'Detecting outliers using Boxplot'}, xlabel='Datetime', ylabel='PT08.S2(NMHC)'>"
      ]
     },
     "execution_count": 22,
     "metadata": {},
     "output_type": "execute_result"
    }
   ],
   "source": [
    "# Q1, Q2(median), Q3\n",
    "q1 = co.quantile(0.25)\n",
    "median = co.quantile(0.5)\n",
    "q3 = co.quantile(0.75)\n",
    "print(q1, median, q3)\n",
    "\n",
    "# IQR, upper_fence, lower_fence\n",
    "iqr = q3-q1\n",
    "upper_fence = q3 + 1.5*iqr\n",
    "lower_fence = q1 - 1.5*iqr\n",
    "print(upper_fence, lower_fence)\n",
    "\n",
    "# Filtering the outliers\n",
    "outliers = co.loc[(co > upper_fence) | (co < 0)]\n",
    "print(outliers)\n",
    "\n",
    "# Mask for outliers\n",
    "mask = co.index.isin(outliers.index)\n",
    "mask\n",
    "\n",
    "# Visualize the normal data and outliers\n",
    "plt.plot(co[~mask], label='normal', color='blue',\n",
    "    marker='o', markersize=3, linestyle='None')\n",
    "plt.plot(outliers, label='outliers', color='red',\n",
    "    marker='x', markersize=3, linestyle='None')\n",
    "plt.legend(loc='best')\n",
    "\n",
    "# Removing the outliers\n",
    "co_refined = co.copy()\n",
    "co_refined[mask] = np.nan\n",
    "print(co_refined[mask])\n",
    "co_refined.plot()\n",
    "\n",
    "# Linear interpolation for reconstructing outliers removed.\n",
    "co_refined.interpolate(inplace=True)\n",
    "co_refined.plot()\n"
   ]
  },
  {
   "cell_type": "code",
   "execution_count": 23,
   "metadata": {},
   "outputs": [
    {
     "name": "stdout",
     "output_type": "stream",
     "text": [
      "2.126146200705357 1.4369815748596482\n"
     ]
    },
    {
     "name": "stderr",
     "output_type": "stream",
     "text": [
      "C:\\Users\\wjdck\\anaconda3\\lib\\site-packages\\seaborn\\distributions.py:2551: FutureWarning: `distplot` is a deprecated function and will be removed in a future version. Please adapt your code to use either `displot` (a figure-level function with similar flexibility) or `histplot` (an axes-level function for histograms).\n",
      "  warnings.warn(msg, FutureWarning)\n"
     ]
    }
   ],
   "source": [
    "# Visualize the distribution of the 'CO(GT)' variable\n",
    "import seaborn as sns\n",
    "sns.distplot(co)\n",
    "\n",
    "# Mean, Standard deviation\n",
    "mean = np.mean(co)\n",
    "std = np.std(co)\n",
    "print(mean, std)"
   ]
  },
  {
   "cell_type": "code",
   "execution_count": 24,
   "metadata": {},
   "outputs": [],
   "source": [
    "# Calculate Z-scores for each data points\n",
    "\n",
    "outliers = []\n",
    "thres = 3   # Z-score threshold"
   ]
  },
  {
   "cell_type": "code",
   "execution_count": 27,
   "metadata": {},
   "outputs": [
    {
     "name": "stdout",
     "output_type": "stream",
     "text": [
      "3.3221398818289734\n",
      "3.113368937755246\n",
      "4.157223658123882\n",
      "4.087633343432639\n",
      "3.0437786230640036\n",
      "3.113368937755246\n",
      "3.8092720846676698\n",
      "3.182959252446488\n",
      "3.113368937755246\n",
      "3.600501140593942\n",
      "3.5309108259027\n",
      "3.0437786230640036\n",
      "3.0437786230640036\n",
      "3.182959252446488\n",
      "3.0437786230640036\n",
      "3.600501140593942\n",
      "3.182959252446488\n",
      "3.7396817699764275\n",
      "3.0437786230640036\n",
      "3.182959252446488\n",
      "3.3917301965202156\n",
      "4.087633343432639\n",
      "3.878862399358912\n",
      "3.2525495671377302\n",
      "4.36599460219761\n",
      "3.2525495671377302\n",
      "4.018043028741397\n",
      "4.36599460219761\n",
      "4.087633343432639\n",
      "4.36599460219761\n",
      "5.131488063801275\n",
      "3.0437786230640036\n",
      "3.113368937755246\n",
      "3.7396817699764275\n",
      "3.2525495671377302\n",
      "4.018043028741397\n",
      "4.087633343432639\n",
      "4.922717119727547\n",
      "3.3917301965202156\n",
      "3.786075313103922\n",
      "4.180420429687629\n",
      "4.574765546271336\n",
      "4.157223658123882\n",
      "4.087633343432639\n",
      "3.113368937755246\n",
      "3.2525495671377302\n",
      "3.9484527140501537\n",
      "5.618620266639971\n",
      "3.113368937755246\n",
      "3.7396817699764275\n",
      "3.5309108259027\n",
      "4.296404287506367\n",
      "4.505175231580093\n",
      "3.3221398818289734\n",
      "3.0437786230640036\n",
      "3.113368937755246\n",
      "3.600501140593942\n",
      "3.600501140593942\n",
      "5.618620266639971\n",
      "6.801655616391093\n",
      "6.523294357626123\n",
      "4.296404287506367\n",
      "3.2525495671377302\n",
      "4.36599460219761\n",
      "3.878862399358912\n",
      "5.54902995194873\n",
      "3.878862399358912\n",
      "4.157223658123882\n",
      "3.113368937755246\n",
      "3.2525495671377302\n",
      "3.7396817699764275\n",
      "3.878862399358912\n",
      "5.061897749110033\n",
      "3.9484527140501537\n",
      "3.113368937755246\n",
      "3.3221398818289734\n",
      "5.409849322566245\n",
      "3.3221398818289734\n",
      "3.6700914552851853\n",
      "4.992307434418791\n",
      "3.6700914552851853\n",
      "3.113368937755246\n",
      "3.600501140593942\n",
      "3.7396817699764275\n",
      "4.505175231580093\n",
      "4.853126805036306\n",
      "4.505175231580093\n",
      "3.113368937755246\n",
      "4.4355849168888515\n",
      "4.574765546271336\n",
      "4.853126805036306\n",
      "3.5309108259027\n",
      "3.113368937755246\n",
      "3.0437786230640036\n",
      "3.3221398818289734\n",
      "4.018043028741397\n",
      "3.182959252446488\n",
      "3.2525495671377302\n",
      "3.182959252446488\n",
      "3.2525495671377302\n",
      "4.505175231580093\n",
      "4.574765546271336\n",
      "3.2525495671377302\n",
      "3.2525495671377302\n",
      "3.182959252446488\n",
      "3.182959252446488\n",
      "4.36599460219761\n",
      "3.461320511211458\n",
      "3.113368937755246\n",
      "3.0437786230640036\n",
      "3.461320511211458\n",
      "3.0437786230640036\n",
      "3.0437786230640036\n",
      "3.6700914552851853\n",
      "3.5309108259027\n",
      "3.7396817699764275\n"
     ]
    }
   ],
   "source": [
    "for i in co:\n",
    "    z_score = (i-mean) / std\n",
    "    if (np.abs(z_score) > thres):\n",
    "        print(z_score)\n",
    "        outliers.append(i)"
   ]
  },
  {
   "cell_type": "code",
   "execution_count": 33,
   "metadata": {},
   "outputs": [
    {
     "data": {
      "text/plain": [
       "Series([], Name: CO(GT), dtype: float64)"
      ]
     },
     "execution_count": 33,
     "metadata": {},
     "output_type": "execute_result"
    }
   ],
   "source": [
    "# Simplified version of filtering outliers\n",
    "outliers = co.loc[np.abs((co-mean)/std) > 3].copy()\n",
    "outliers"
   ]
  },
  {
   "cell_type": "code",
   "execution_count": 25,
   "metadata": {},
   "outputs": [
    {
     "ename": "TypeError",
     "evalue": "'builtin_function_or_method' object is not iterable",
     "output_type": "error",
     "traceback": [
      "\u001b[1;31m---------------------------------------------------------------------------\u001b[0m",
      "\u001b[1;31mTypeError\u001b[0m                                 Traceback (most recent call last)",
      "\u001b[1;32m<ipython-input-25-54598e1e87ee>\u001b[0m in \u001b[0;36m<module>\u001b[1;34m\u001b[0m\n\u001b[0;32m      1\u001b[0m \u001b[1;31m# Mask for outliers\u001b[0m\u001b[1;33m\u001b[0m\u001b[1;33m\u001b[0m\u001b[1;33m\u001b[0m\u001b[0m\n\u001b[1;32m----> 2\u001b[1;33m \u001b[0mmask\u001b[0m \u001b[1;33m=\u001b[0m \u001b[0mco\u001b[0m\u001b[1;33m.\u001b[0m\u001b[0mindex\u001b[0m\u001b[1;33m.\u001b[0m\u001b[0misin\u001b[0m\u001b[1;33m(\u001b[0m\u001b[0moutliers\u001b[0m\u001b[1;33m.\u001b[0m\u001b[0mindex\u001b[0m\u001b[1;33m)\u001b[0m\u001b[1;33m\u001b[0m\u001b[1;33m\u001b[0m\u001b[0m\n\u001b[0m\u001b[0;32m      3\u001b[0m \u001b[0mmask\u001b[0m\u001b[1;33m\u001b[0m\u001b[1;33m\u001b[0m\u001b[0m\n",
      "\u001b[1;32m~\\anaconda3\\lib\\site-packages\\pandas\\core\\indexes\\datetimelike.py\u001b[0m in \u001b[0;36misin\u001b[1;34m(self, values, level)\u001b[0m\n\u001b[0;32m    482\u001b[0m         \u001b[1;32mif\u001b[0m \u001b[1;32mnot\u001b[0m \u001b[0misinstance\u001b[0m\u001b[1;33m(\u001b[0m\u001b[0mvalues\u001b[0m\u001b[1;33m,\u001b[0m \u001b[0mtype\u001b[0m\u001b[1;33m(\u001b[0m\u001b[0mself\u001b[0m\u001b[1;33m)\u001b[0m\u001b[1;33m)\u001b[0m\u001b[1;33m:\u001b[0m\u001b[1;33m\u001b[0m\u001b[1;33m\u001b[0m\u001b[0m\n\u001b[0;32m    483\u001b[0m             \u001b[1;32mtry\u001b[0m\u001b[1;33m:\u001b[0m\u001b[1;33m\u001b[0m\u001b[1;33m\u001b[0m\u001b[0m\n\u001b[1;32m--> 484\u001b[1;33m                 \u001b[0mvalues\u001b[0m \u001b[1;33m=\u001b[0m \u001b[0mtype\u001b[0m\u001b[1;33m(\u001b[0m\u001b[0mself\u001b[0m\u001b[1;33m)\u001b[0m\u001b[1;33m(\u001b[0m\u001b[0mvalues\u001b[0m\u001b[1;33m)\u001b[0m\u001b[1;33m\u001b[0m\u001b[1;33m\u001b[0m\u001b[0m\n\u001b[0m\u001b[0;32m    485\u001b[0m             \u001b[1;32mexcept\u001b[0m \u001b[0mValueError\u001b[0m\u001b[1;33m:\u001b[0m\u001b[1;33m\u001b[0m\u001b[1;33m\u001b[0m\u001b[0m\n\u001b[0;32m    486\u001b[0m                 \u001b[1;32mreturn\u001b[0m \u001b[0mself\u001b[0m\u001b[1;33m.\u001b[0m\u001b[0mastype\u001b[0m\u001b[1;33m(\u001b[0m\u001b[0mobject\u001b[0m\u001b[1;33m)\u001b[0m\u001b[1;33m.\u001b[0m\u001b[0misin\u001b[0m\u001b[1;33m(\u001b[0m\u001b[0mvalues\u001b[0m\u001b[1;33m)\u001b[0m\u001b[1;33m\u001b[0m\u001b[1;33m\u001b[0m\u001b[0m\n",
      "\u001b[1;32m~\\anaconda3\\lib\\site-packages\\pandas\\core\\indexes\\datetimes.py\u001b[0m in \u001b[0;36m__new__\u001b[1;34m(cls, data, freq, tz, normalize, closed, ambiguous, dayfirst, yearfirst, dtype, copy, name)\u001b[0m\n\u001b[0;32m    269\u001b[0m         \u001b[0mname\u001b[0m \u001b[1;33m=\u001b[0m \u001b[0mmaybe_extract_name\u001b[0m\u001b[1;33m(\u001b[0m\u001b[0mname\u001b[0m\u001b[1;33m,\u001b[0m \u001b[0mdata\u001b[0m\u001b[1;33m,\u001b[0m \u001b[0mcls\u001b[0m\u001b[1;33m)\u001b[0m\u001b[1;33m\u001b[0m\u001b[1;33m\u001b[0m\u001b[0m\n\u001b[0;32m    270\u001b[0m \u001b[1;33m\u001b[0m\u001b[0m\n\u001b[1;32m--> 271\u001b[1;33m         dtarr = DatetimeArray._from_sequence(\n\u001b[0m\u001b[0;32m    272\u001b[0m             \u001b[0mdata\u001b[0m\u001b[1;33m,\u001b[0m\u001b[1;33m\u001b[0m\u001b[1;33m\u001b[0m\u001b[0m\n\u001b[0;32m    273\u001b[0m             \u001b[0mdtype\u001b[0m\u001b[1;33m=\u001b[0m\u001b[0mdtype\u001b[0m\u001b[1;33m,\u001b[0m\u001b[1;33m\u001b[0m\u001b[1;33m\u001b[0m\u001b[0m\n",
      "\u001b[1;32m~\\anaconda3\\lib\\site-packages\\pandas\\core\\arrays\\datetimes.py\u001b[0m in \u001b[0;36m_from_sequence\u001b[1;34m(cls, data, dtype, copy, tz, freq, dayfirst, yearfirst, ambiguous)\u001b[0m\n\u001b[0;32m    314\u001b[0m         \u001b[0mfreq\u001b[0m\u001b[1;33m,\u001b[0m \u001b[0mfreq_infer\u001b[0m \u001b[1;33m=\u001b[0m \u001b[0mdtl\u001b[0m\u001b[1;33m.\u001b[0m\u001b[0mmaybe_infer_freq\u001b[0m\u001b[1;33m(\u001b[0m\u001b[0mfreq\u001b[0m\u001b[1;33m)\u001b[0m\u001b[1;33m\u001b[0m\u001b[1;33m\u001b[0m\u001b[0m\n\u001b[0;32m    315\u001b[0m \u001b[1;33m\u001b[0m\u001b[0m\n\u001b[1;32m--> 316\u001b[1;33m         subarr, tz, inferred_freq = sequence_to_dt64ns(\n\u001b[0m\u001b[0;32m    317\u001b[0m             \u001b[0mdata\u001b[0m\u001b[1;33m,\u001b[0m\u001b[1;33m\u001b[0m\u001b[1;33m\u001b[0m\u001b[0m\n\u001b[0;32m    318\u001b[0m             \u001b[0mdtype\u001b[0m\u001b[1;33m=\u001b[0m\u001b[0mdtype\u001b[0m\u001b[1;33m,\u001b[0m\u001b[1;33m\u001b[0m\u001b[1;33m\u001b[0m\u001b[0m\n",
      "\u001b[1;32m~\\anaconda3\\lib\\site-packages\\pandas\\core\\arrays\\datetimes.py\u001b[0m in \u001b[0;36msequence_to_dt64ns\u001b[1;34m(data, dtype, copy, tz, dayfirst, yearfirst, ambiguous)\u001b[0m\n\u001b[0;32m   1913\u001b[0m         \u001b[1;32mif\u001b[0m \u001b[0mnp\u001b[0m\u001b[1;33m.\u001b[0m\u001b[0mndim\u001b[0m\u001b[1;33m(\u001b[0m\u001b[0mdata\u001b[0m\u001b[1;33m)\u001b[0m \u001b[1;33m==\u001b[0m \u001b[1;36m0\u001b[0m\u001b[1;33m:\u001b[0m\u001b[1;33m\u001b[0m\u001b[1;33m\u001b[0m\u001b[0m\n\u001b[0;32m   1914\u001b[0m             \u001b[1;31m# i.e. generator\u001b[0m\u001b[1;33m\u001b[0m\u001b[1;33m\u001b[0m\u001b[1;33m\u001b[0m\u001b[0m\n\u001b[1;32m-> 1915\u001b[1;33m             \u001b[0mdata\u001b[0m \u001b[1;33m=\u001b[0m \u001b[0mlist\u001b[0m\u001b[1;33m(\u001b[0m\u001b[0mdata\u001b[0m\u001b[1;33m)\u001b[0m\u001b[1;33m\u001b[0m\u001b[1;33m\u001b[0m\u001b[0m\n\u001b[0m\u001b[0;32m   1916\u001b[0m         \u001b[0mdata\u001b[0m \u001b[1;33m=\u001b[0m \u001b[0mnp\u001b[0m\u001b[1;33m.\u001b[0m\u001b[0masarray\u001b[0m\u001b[1;33m(\u001b[0m\u001b[0mdata\u001b[0m\u001b[1;33m)\u001b[0m\u001b[1;33m\u001b[0m\u001b[1;33m\u001b[0m\u001b[0m\n\u001b[0;32m   1917\u001b[0m         \u001b[0mcopy\u001b[0m \u001b[1;33m=\u001b[0m \u001b[1;32mFalse\u001b[0m\u001b[1;33m\u001b[0m\u001b[1;33m\u001b[0m\u001b[0m\n",
      "\u001b[1;31mTypeError\u001b[0m: 'builtin_function_or_method' object is not iterable"
     ]
    }
   ],
   "source": [
    "# Mask for outliers\n",
    "mask = co.index.isin(outliers.index)\n",
    "mask\n"
   ]
  },
  {
   "cell_type": "code",
   "execution_count": 26,
   "metadata": {},
   "outputs": [
    {
     "name": "stderr",
     "output_type": "stream",
     "text": [
      "C:\\Users\\wjdck\\anaconda3\\lib\\site-packages\\seaborn\\distributions.py:2551: FutureWarning: `distplot` is a deprecated function and will be removed in a future version. Please adapt your code to use either `displot` (a figure-level function with similar flexibility) or `histplot` (an axes-level function for histograms).\n",
      "  warnings.warn(msg, FutureWarning)\n",
      "C:\\Users\\wjdck\\anaconda3\\lib\\site-packages\\seaborn\\distributions.py:2551: FutureWarning: `distplot` is a deprecated function and will be removed in a future version. Please adapt your code to use either `displot` (a figure-level function with similar flexibility) or `histplot` (an axes-level function for histograms).\n",
      "  warnings.warn(msg, FutureWarning)\n"
     ]
    },
    {
     "data": {
      "text/plain": [
       "<matplotlib.legend.Legend at 0x1ff2ad9ed00>"
      ]
     },
     "execution_count": 26,
     "metadata": {},
     "output_type": "execute_result"
    }
   ],
   "source": [
    "# Comparison of distributions before/after outlier removal\n",
    "sns.distplot(co, axlabel='CO(GT)', label='original')\n",
    "sns.distplot(co[~mask], label='outliers removed')\n",
    "plt.legend(loc='best')"
   ]
  },
  {
   "cell_type": "code",
   "execution_count": 27,
   "metadata": {},
   "outputs": [],
   "source": [
    "# [exer] Adjust thres\n",
    "\n",
    "# Flooring and Capping\n",
    "floor = co.quantile(0.1)\n",
    "cap = co.quantile(0.9)\n",
    "\n",
    "co.loc[co < floor] = floor\n",
    "co.loc[co > cap] = cap"
   ]
  },
  {
   "cell_type": "code",
   "execution_count": 28,
   "metadata": {},
   "outputs": [
    {
     "data": {
      "text/plain": [
       "<AxesSubplot:title={'center':'Detecting outliers using Boxplot'}, xlabel='Datetime', ylabel='PT08.S2(NMHC)'>"
      ]
     },
     "execution_count": 28,
     "metadata": {},
     "output_type": "execute_result"
    }
   ],
   "source": [
    "# Visualize the result\n",
    "co.plot()"
   ]
  },
  {
   "cell_type": "code",
   "execution_count": null,
   "metadata": {},
   "outputs": [],
   "source": []
  }
 ],
 "metadata": {
  "kernelspec": {
   "display_name": "Python 3",
   "language": "python",
   "name": "python3"
  },
  "language_info": {
   "codemirror_mode": {
    "name": "ipython",
    "version": 3
   },
   "file_extension": ".py",
   "mimetype": "text/x-python",
   "name": "python",
   "nbconvert_exporter": "python",
   "pygments_lexer": "ipython3",
   "version": "3.8.5"
  }
 },
 "nbformat": 4,
 "nbformat_minor": 4
}
