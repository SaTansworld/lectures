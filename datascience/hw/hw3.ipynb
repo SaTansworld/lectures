{
 "cells": [
  {
   "cell_type": "code",
   "execution_count": 17,
   "metadata": {},
   "outputs": [
    {
     "name": "stdout",
     "output_type": "stream",
     "text": [
      "Average price is 3.75\n",
      "Average price is 6.875\n",
      "Average price is 11.875\n",
      "Average price is 14.375\n",
      "Average price is 16.875\n",
      "Average price is 21.25\n",
      "Average price is 27.5\n",
      "Average price is 31.875\n",
      "[25, 20, 35, 15, 15, 30, 45, 30]\n",
      "60\n",
      "135\n",
      "335\n",
      "495\n",
      "575\n",
      "715\n",
      "1015\n",
      "1085\n",
      "Average daily revenue is 155.0\n",
      "['bouffant', 'pixie', 'crew', 'bowl']\n"
     ]
    }
   ],
   "source": [
    "hairstyles = [\"bouffant\", \"pixie\", \"dreadlocks\", \"crew\", \"bowl\", \"bob\", \"mohawk\", \"flattop\"]\n",
    "\n",
    "prices = [30, 25, 40, 20, 20, 35, 50, 35]\n",
    "\n",
    "last_week = [2, 3, 5, 8, 4, 4, 6, 2]\n",
    "\n",
    "total_price = 0\n",
    "\n",
    "for i in prices:\n",
    "    total_price += i\n",
    "    average_price = total_price/len(prices)\n",
    "    print('Average price is ' + str(average_price))\n",
    "    \n",
    "new_prices = [i - 5 for i in prices]\n",
    "print(new_prices)\n",
    "\n",
    "total_revenue = 0\n",
    "for i in range(len(prices)):\n",
    "    total_revenue += prices[i] * last_week[i]\n",
    "    print(total_revenue)\n",
    "    \n",
    "average_daily_revenue = total_revenue / 7\n",
    "print('Average daily revenue is ' + str(average_daily_revenue))\n",
    "\n",
    "cuts_under_30 = [hairstyles[i] for i in range(0, (len(hairstyles) - 1)) if new_prices[i] < 30]\n",
    "print(cuts_under_30)"
   ]
  },
  {
   "cell_type": "code",
   "execution_count": null,
   "metadata": {},
   "outputs": [],
   "source": []
  }
 ],
 "metadata": {
  "kernelspec": {
   "display_name": "Python 3",
   "language": "python",
   "name": "python3"
  },
  "language_info": {
   "codemirror_mode": {
    "name": "ipython",
    "version": 3
   },
   "file_extension": ".py",
   "mimetype": "text/x-python",
   "name": "python",
   "nbconvert_exporter": "python",
   "pygments_lexer": "ipython3",
   "version": "3.8.5"
  }
 },
 "nbformat": 4,
 "nbformat_minor": 4
}
